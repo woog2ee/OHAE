{
 "cells": [
  {
   "cell_type": "markdown",
   "id": "61f4cc7a",
   "metadata": {},
   "source": [
    "### 기본 세팅"
   ]
  },
  {
   "cell_type": "code",
   "execution_count": 1,
   "id": "a9440f83",
   "metadata": {},
   "outputs": [],
   "source": [
    "import os\n",
    "import sys\n",
    "import numpy as np\n",
    "import pandas as pd\n",
    "import matplotlib.pyplot as plt\n",
    "import matplotlib.font_manager as fm\n",
    "import warnings\n",
    "warnings.filterwarnings('ignore')\n",
    "sys.path.insert(0, os.path.abspath('../'))\n",
    "\n",
    "from konlpy.tag import Okt\n",
    "from gensim.models.word2vec import Word2Vec\n",
    "from tokenization_kbalbert import KbAlbertCharTokenizer\n",
    "from transformers import pipeline, AutoModelForSequenceClassification"
   ]
  },
  {
   "cell_type": "code",
   "execution_count": 2,
   "id": "47b53cdf",
   "metadata": {},
   "outputs": [],
   "source": [
    "# 종목 vcoab은 종목명 유의어까지 포함\n",
    "vocab = [\n",
    "    ['삼성전자', '삼전'],\n",
    "    ['SK하이닉스', '하닉'],\n",
    "    ['카카오뱅크', '카뱅'],\n",
    "    ['두산중공업', '두중'],\n",
    "    ['HMM', '흠'],\n",
    "    ['SK바이오사이언스', 'sk바이오', 'sk바사'],\n",
    "    ['한국전력공사', '한국전력', '한전'],\n",
    "    ['카카오'],\n",
    "    ['대한항공', '댄공']\n",
    "]\n",
    "\n",
    "# 분석할 날짜 입력\n",
    "period = ['20210822', '20210823', '20210824', '20210825', '20210826']\n",
    "targetdate = '20210826'\n",
    "\n",
    "# 오늘의 해시태그, 오해 불용어 정의\n",
    "OHAE_stopwords = []\n",
    "with open('./OHAE_stopwords.txt', 'r', encoding='UTF8') as file:\n",
    "    for line in file:\n",
    "        OHAE_stopwords.append(line.strip())\n",
    "\n",
    "for i in range(len(vocab)):\n",
    "    for j in range(len(vocab[i])):\n",
    "        stockname = vocab[i][j]\n",
    "        token = Okt().morphs(stockname)\n",
    "        for voca in token:\n",
    "            OHAE_stopwords.append(voca)"
   ]
  },
  {
   "cell_type": "markdown",
   "id": "1432056a",
   "metadata": {},
   "source": [
    "### 텍스트 분석 클래스"
   ]
  },
  {
   "cell_type": "code",
   "execution_count": 3,
   "id": "ef0ad849",
   "metadata": {},
   "outputs": [],
   "source": [
    "class Analyzer:\n",
    "    def __init__(self, **kwargs):\n",
    "        super(Analyzer, self).__init__(**kwargs)\n",
    "        \n",
    "        # 데이터 출처별 언급량 스코어 \n",
    "        self.mention_score_daumnews  = [0.5, 0.1]          #제목, 댓글 언급 스코어\n",
    "        self.mention_score_dcinside  = [0.5, 0.4, 0.1]     #제목, 본문, 댓글 언급 스코어\n",
    "        self.mention_score_jongto    = [0.5, 0.4, 0.1]     #제목, 본문, 댓글 언급 스코어\n",
    "        self.mention_score_navernews = [0.5, 0.1]          #제목, 댓글 언급 스코어\n",
    "        self.mention_score_youtube   = [0.5, 0.1]          #제목, 댓글 언급 스코어\n",
    "        \n",
    "        # 사용한 데이터 출처\n",
    "        self.datafrom = ['daumnews', 'dcinside', 'jongto', 'navernews', 'youtube']\n",
    "        \n",
    "    \n",
    "    \n",
    "    # 언급량 측정: 네이버뉴스, 다음뉴스, 유튜브\n",
    "    def estimate_mentioned1(self, datafrom, info, comment, keywords):\n",
    "        mentioned_headline = 0\n",
    "        mentioned_comment = 0\n",
    "        \n",
    "        # 데이터 출처에 따른 mention score 지정\n",
    "        if datafrom == 'navernews':\n",
    "            mention_score = self.mention_score_navernews\n",
    "        elif datafrom == 'daumnews':\n",
    "            mention_score = self.mention_score_daumnews\n",
    "        elif datafrom == 'youtube':\n",
    "            mention_score = self.mention_score_youtube\n",
    "            \n",
    "        # 언급량 카운트\n",
    "        for keyword in keywords:\n",
    "            # 제목에서 언급량\n",
    "            keyword_count = 0\n",
    "            for i in range(len(list(info['제목']))):\n",
    "                if keyword in list(info['제목'])[i]:\n",
    "                    keyword_count += 1\n",
    "                else:\n",
    "                    keyword_count += 0.5\n",
    "            mentioned_headline += mention_score[0] * keyword_count\n",
    "            \n",
    "            # 댓글에서 언급량\n",
    "            keyword_count = 0\n",
    "            for i in range(len(list(comment['댓글']))):\n",
    "                if keyword in list(comment['댓글'])[i]:\n",
    "                    keyword_count += 1\n",
    "                else:\n",
    "                    keyword_count += 0.5\n",
    "            mentioned_comment += mention_score[1] * keyword_count\n",
    "        return mentioned_headline + mentioned_comment\n",
    "    \n",
    "    \n",
    "    \n",
    "    # 언급량 측정: 디시인사이드, 종토방\n",
    "    def estimate_mentioned2(self, datafrom, info, comment, keywords):\n",
    "        mentioned_headline = 0\n",
    "        mentioned_content = 0\n",
    "        mentioned_comment = 0\n",
    "        \n",
    "        # 데이터 출처에 따른 mention score 지정\n",
    "        if datafrom == 'dcinside':\n",
    "            mention_score = self.mention_score_dcinside\n",
    "        elif datafrom == 'jongto':\n",
    "            mention_score = self.mention_score_jongto\n",
    "            \n",
    "        # 언급량 카운트\n",
    "        for keyword in keywords:\n",
    "            # 제목에서 언급량\n",
    "            keyword_count = 0\n",
    "            for i in range(len(list(info['제목']))):\n",
    "                if keyword in list(info['제목'])[i]:\n",
    "                    keyword_count += 1\n",
    "                else:\n",
    "                    keyword_count += 0.5\n",
    "            mentioned_headline += mention_score[0] * keyword_count\n",
    "            \n",
    "            # 본문에서 언급량\n",
    "            keyword_count = 0\n",
    "            for i in range(len(list(info['본문']))):\n",
    "                if keyword in list(info['본문'])[i]:\n",
    "                    keyword_count += 1\n",
    "                else:\n",
    "                    keyword_count += 0.5\n",
    "            mentioned_content += mention_score[1] * keyword_count\n",
    "            \n",
    "            # 댓글에서 언급량\n",
    "            keyword_count = 0\n",
    "            for i in range(len(list(comment['댓글']))):\n",
    "                if keyword in list(comment['댓글'])[i]:\n",
    "                    keyword_count += 1\n",
    "                else:\n",
    "                    keyword_count += 0.5\n",
    "            mentioned_comment += mention_score[2] * keyword_count         \n",
    "        return mentioned_headline + mentioned_content + mentioned_comment\n",
    "    \n",
    "    \n",
    "    \n",
    "    # 날짜별 데이터 통합\n",
    "    def select_datacolumns(self, date, keyword):\n",
    "        datafrom = self.datafrom\n",
    "        datacolumns = []\n",
    "        \n",
    "        # 같은 날짜에서 5개 데이터 통합\n",
    "        for i in range(len(datafrom)):\n",
    "            if (datafrom[i] == 'youtube') and (keyword == '한국전력공사'):\n",
    "                keyword = '한국전력'\n",
    "            \n",
    "            globals()[f'info{i}'] = globals()[f'{datafrom[i]}_{date}_{keyword}_final_info']\n",
    "            globals()[f'comment{i}'] = globals()[f'{datafrom[i]}_{date}_{keyword}_final_comment']\n",
    "            \n",
    "            if (datafrom[i] == 'navernews') or (datafrom[i] == 'daumnews') or (datafrom[i] == 'youtube'):\n",
    "                datacolumns.append(list(globals()[f'info{i}']['제목']))\n",
    "                datacolumns.append(list(globals()[f'comment{i}']['댓글']))\n",
    "            elif (datafrom[i] == 'dcinside') or (datafrom[i] == 'jongto'):\n",
    "                datacolumns.append(list(globals()[f'info{i}']['제목']))\n",
    "                datacolumns.append(list(globals()[f'info{i}']['본문']))\n",
    "                datacolumns.append(list(globals()[f'comment{i}']['댓글']))    \n",
    "        return datacolumns\n",
    "                \n",
    "    \n",
    "    \n",
    "    # 오늘의 해시태그, 오해 선정\n",
    "    def select_OHAE(self, datacolumns):\n",
    "        word2index = {}\n",
    "        bow = []\n",
    "        \n",
    "        # 데이터프레임을 돌며 단어 수집\n",
    "        for datacolumn in datacolumns:\n",
    "            for headline in datacolumn:\n",
    "                token = Okt().nouns(headline)\n",
    "                for voca in token:\n",
    "                    if voca in OHAE_stopwords or voca.isdigit():\n",
    "                        continue\n",
    "\n",
    "                    if voca not in word2index:\n",
    "                        word2index[voca] = len(word2index)\n",
    "                        bow.insert(len(word2index)-1, 1)\n",
    "                    else:\n",
    "                        index = word2index[voca]\n",
    "                        bow[index] = bow[index]+1\n",
    "\n",
    "        # 단어 빈도수 리스트 형성\n",
    "        word_count = []\n",
    "        for i in range(len(bow)):\n",
    "            word = list(word2index.keys())[i]\n",
    "            count = bow[i]\n",
    "            word_count.append([count, word])\n",
    "        word_count.sort(reverse=True)\n",
    "        return word_count[:5]\n",
    "    \n",
    "    \n",
    "    \n",
    "    # 특정 키워드가 있는 텍스트를 모두 가져옴(글 길이 상관 없음)\n",
    "    def data_extraction(self, df, keyword):\n",
    "        main_text = []\n",
    "        for text in list(df['document'].values):\n",
    "            if keyword in text:\n",
    "                main_text.append(text)\n",
    "        print(keyword, '이(가) 포함된', len(main_text),'개의 텍스트가 모여짐')\n",
    "        return main_text\n",
    "\n",
    "\n",
    "    \n",
    "    # 특정 키워드가 있는 텍스트를 모두 가져옴(글 길이를 600개 이하로 끊음)\n",
    "    def data_extraction_for_classifier(self, df, keyword):\n",
    "        main_text = []\n",
    "        for text in list(df['document'].values):\n",
    "            if keyword in text:\n",
    "                main_text.append(text[:600])\n",
    "        print(keyword, '이(가) 포함된', len(main_text),'개의 텍스트가 모여짐')\n",
    "        return main_text\n",
    "    \n",
    "    \n",
    "    \n",
    "    # 오늘의 해시태그, 오해 연관어 추출\n",
    "    def word2vec_OHAE(self, OHAE, dataframe):\n",
    "        print('----------------------'*5)\n",
    "        print(OHAE, '이(가) 포함된 텍스트에 벡터라이징 적용')\n",
    "        text_with_OHAE = self.data_extraction(dataframe, OHAE)\n",
    "\n",
    "        # 불용어 및 제외어 정의\n",
    "        stopwords = ['삼','전','성','등','되다','전자','삼성','삼전','있다','에서','이다','을','기','의','가','이','은','들',\n",
    "                     '는','좀','잘','걍','식','과','월','도','임','20만원','배','를','으로','자','에','와','한','하다',\n",
    "                     '더','게','것','*','1','2','3','4','5','6','7','8','g','크다','아니다','지금','대비','때','율',\n",
    "                     '위','올해','연말','분기','특별']\n",
    "        removewords = ['향후', '종목', '및', '이유','저가','고가']\n",
    "        \n",
    "        # 토큰화\n",
    "        tokenized_data = []\n",
    "        for sentence in text_with_OHAE:\n",
    "            temp_X = Okt().nouns(sentence) \n",
    "            temp_X = [word for word in temp_X if not word in stopwords] \n",
    "            tokenized_data.append(temp_X)\n",
    "\n",
    "        # 토큰을 임베딩하여 벡터라이징\n",
    "        model = Word2Vec(sentences=tokenized_data, window=6, min_count=5, workers=4, sg=0)\n",
    "        \n",
    "        # 코사인 유사도를 기준으로 하여 OHAE 단어와 가장 가까운 단어 상위 20개 뽑음\n",
    "        OHAE_word2vec_dict = model.wv.most_similar(OHAE, topn=20)\n",
    "        print('----------------------'*5)\n",
    "        print('벡터라이징 결과(코사인 유사도 값 확인) :')\n",
    "        print(OHAE_word2vec_dict)\n",
    "        \n",
    "        # 제외어를 제외시켜 최종 연관어 도출\n",
    "        OHAE_word2vec_list = []\n",
    "        for ranks in range(len(OHAE_word2vec_dict)):\n",
    "            OHAE_word2vec_list.append(OHAE_word2vec_dict[ranks][0])\n",
    "            if OHAE_word2vec_dict[ranks][0] in removewords:\n",
    "                OHAE_word2vec_list.remove(OHAE_word2vec_dict[ranks][0])\n",
    "        \n",
    "        print('\\n최종 연관어 리스트: ', OHAE_word2vec_list)\n",
    "        return OHAE_word2vec_list\n",
    "\n",
    "    \n",
    "    \n",
    "    # 오늘의 해시태그, 오해 연관어 감성분석\n",
    "    def sentiment_analysis(self, OHAE_word2vec_list, dataframe):\n",
    "        OHAE_top4_relationword = OHAE_word2vec_list[:4]\n",
    "        print('----------------------'*5)   \n",
    "        print('연관어 4개: ', OHAE_top4_relationword)\n",
    "        print('----------------------'*5)    \n",
    "        \n",
    "        for 연관어 in OHAE_top4_relationword:\n",
    "            # 오해 단어의 연관어가 포함된 텍스트만 추출\n",
    "            OHAE_top4_Text = self.data_extraction_for_classifier(dataframe, 연관어)\n",
    "\n",
    "            # 학습된 albert모델 불러와 사용\n",
    "            kb_albert_model_path = './model'\n",
    "            model_output_path = './OHAE_project/model_output'\n",
    "            model = AutoModelForSequenceClassification.from_pretrained(model_output_path)\n",
    "            # kbalberrCharTokenizer을 이용해 텍스트 토큰화\n",
    "            tokenizer = KbAlbertCharTokenizer.from_pretrained(kb_albert_model_path)\n",
    "\n",
    "            # 10일치의 텍스트가 학습된 감성분석 모델을 사용해 모든 텍스트에 대해서 positive/negative 예측\n",
    "            comment_classifier = pipeline('sentiment-analysis', model=model, tokenizer=tokenizer, framework='pt')\n",
    "            comments = OHAE_top4_Text\n",
    "\n",
    "            # 감성분석 진행\n",
    "            comments = comment_classifier(comments)\n",
    "            positive = 0\n",
    "            negative = 0\n",
    "            total = len(comments) \n",
    "            for comment in comments:\n",
    "                if comment['label'] == 'positive':\n",
    "                    positive += 1\n",
    "                if comment['label'] == 'negative':\n",
    "                    negative += 1\n",
    "            print(연관어,'의 긍정도: ', round(positive/total, 3))\n",
    "            print(연관어,'의 부정도: ', round(negative/total, 3))\n",
    "            print('----------------------'*5)"
   ]
  },
  {
   "cell_type": "markdown",
   "id": "cf49d652",
   "metadata": {},
   "source": [
    "### 언급량 분석"
   ]
  },
  {
   "cell_type": "code",
   "execution_count": 4,
   "id": "76adc48a",
   "metadata": {},
   "outputs": [],
   "source": [
    "# 다음뉴스 언급량 분석\n",
    "datafrom = 'daumnews'\n",
    "\n",
    "for date in period:\n",
    "    # 언급량 변수\n",
    "    globals()[f'mentioned_{datafrom}_{date}'] = []\n",
    "\n",
    "    for i in range(len(vocab)):\n",
    "        # 종목 선택\n",
    "        keyword = vocab[i][0]\n",
    "\n",
    "        # 데이터프레임 불러오기\n",
    "        globals()[f'{datafrom}_{date}_{keyword}_final_info'] = pd.read_csv(f'./{date}_data/{date}_{datafrom}/{datafrom}_{date}_{keyword}_final_info.csv', index_col=0)\n",
    "        globals()[f'{datafrom}_{date}_{keyword}_final_comment'] = pd.read_csv(f'./{date}_data/{date}_{datafrom}/{datafrom}_{date}_{keyword}_final_comment.csv', index_col=0)\n",
    "\n",
    "        # 데이터프레임 빈 부분 채우기\n",
    "        globals()[f'{datafrom}_{date}_{keyword}_final_info'].loc[globals()[f'{datafrom}_{date}_{keyword}_final_info']['제목'].isnull(), '제목'] = ''\n",
    "        globals()[f'{datafrom}_{date}_{keyword}_final_comment'].loc[globals()[f'{datafrom}_{date}_{keyword}_final_comment']['제목'].isnull(), '제목'] = ''\n",
    "        globals()[f'{datafrom}_{date}_{keyword}_final_comment'].loc[globals()[f'{datafrom}_{date}_{keyword}_final_comment']['댓글'].isnull(), '댓글'] = ''\n",
    "\n",
    "        # 언급량 계산\n",
    "        keywords = vocab[i]\n",
    "        info = globals()[f'{datafrom}_{date}_{keyword}_final_info']\n",
    "        comment = globals()[f'{datafrom}_{date}_{keyword}_final_comment']\n",
    "        globals()[f'mentioned_{datafrom}_{date}_{keyword}'] = Analyzer().estimate_mentioned1(datafrom, info, comment, keywords)\n",
    "        globals()[f'mentioned_{datafrom}_{date}'].append([keyword, globals()[f'mentioned_{datafrom}_{date}_{keyword}']])\n",
    "        #print(f' {date} {datafrom} {keyword} 언급량 분석 완료')"
   ]
  },
  {
   "cell_type": "code",
   "execution_count": 5,
   "id": "eaf60f2b",
   "metadata": {},
   "outputs": [],
   "source": [
    "# 디시인사이드 언급량 분석\n",
    "datafrom = 'dcinside'\n",
    "\n",
    "for date in period:\n",
    "    # 언급량 변수\n",
    "    globals()[f'mentioned_{datafrom}_{date}'] = []\n",
    "\n",
    "    for i in range(len(vocab)):\n",
    "        # 종목 선택\n",
    "        keyword = vocab[i][0]\n",
    "\n",
    "        # 데이터프레임 불러오기\n",
    "        globals()[f'{datafrom}_{date}_{keyword}_final_info'] = pd.read_csv(f'./{date}_data/{date}_{datafrom}/{datafrom}_{date}_{keyword}_final_info.csv', index_col=0)\n",
    "        globals()[f'{datafrom}_{date}_{keyword}_final_comment'] = pd.read_csv(f'./{date}_data/{date}_{datafrom}/{datafrom}_{date}_{keyword}_final_comment.csv', index_col=0)\n",
    "\n",
    "        # 데이터프레임 빈 부분 채우기\n",
    "        globals()[f'{datafrom}_{date}_{keyword}_final_info'].loc[globals()[f'{datafrom}_{date}_{keyword}_final_info']['제목'].isnull(), '제목'] = ''\n",
    "        globals()[f'{datafrom}_{date}_{keyword}_final_info'].loc[globals()[f'{datafrom}_{date}_{keyword}_final_info']['본문'].isnull(), '본문'] = ''\n",
    "        globals()[f'{datafrom}_{date}_{keyword}_final_comment'].loc[globals()[f'{datafrom}_{date}_{keyword}_final_comment']['제목'].isnull(), '제목'] = ''\n",
    "        globals()[f'{datafrom}_{date}_{keyword}_final_comment'].loc[globals()[f'{datafrom}_{date}_{keyword}_final_comment']['댓글'].isnull(), '댓글'] = ''\n",
    "\n",
    "        # 언급량 계산\n",
    "        keywords = vocab[i]\n",
    "        info = globals()[f'{datafrom}_{date}_{keyword}_final_info']\n",
    "        comment = globals()[f'{datafrom}_{date}_{keyword}_final_comment']\n",
    "        globals()[f'mentioned_{datafrom}_{date}_{keyword}'] = Analyzer().estimate_mentioned2(datafrom, info, comment, keywords)\n",
    "        globals()[f'mentioned_{datafrom}_{date}'].append([keyword, globals()[f'mentioned_{datafrom}_{date}_{keyword}']])\n",
    "        #print(f' {date} {datafrom} {keyword} 언급량 분석 완료')"
   ]
  },
  {
   "cell_type": "code",
   "execution_count": 6,
   "id": "82c7056d",
   "metadata": {},
   "outputs": [],
   "source": [
    "# 종토방 언급량 분석\n",
    "datafrom = 'jongto'\n",
    "\n",
    "for date in period:\n",
    "    # 언급량 변수\n",
    "    globals()[f'mentioned_{datafrom}_{date}'] = []\n",
    "\n",
    "    for i in range(len(vocab)):\n",
    "        # 종목 선택\n",
    "        keyword = vocab[i][0]\n",
    "\n",
    "        # 데이터프레임 불러오기\n",
    "        globals()[f'{datafrom}_{date}_{keyword}_final_info'] = pd.read_csv(f'./{date}_data/{date}_{datafrom}/{datafrom}_{date}_{keyword}_final_info.csv', index_col=0)\n",
    "        globals()[f'{datafrom}_{date}_{keyword}_final_comment'] = pd.read_csv(f'./{date}_data/{date}_{datafrom}/{datafrom}_{date}_{keyword}_final_comment.csv', index_col=0)\n",
    "\n",
    "        # 데이터프레임 빈 부분 채우기\n",
    "        globals()[f'{datafrom}_{date}_{keyword}_final_info'].loc[globals()[f'{datafrom}_{date}_{keyword}_final_info']['제목'].isnull(), '제목'] = ''\n",
    "        globals()[f'{datafrom}_{date}_{keyword}_final_info'].loc[globals()[f'{datafrom}_{date}_{keyword}_final_info']['본문'].isnull(), '본문'] = ''\n",
    "        globals()[f'{datafrom}_{date}_{keyword}_final_comment'].loc[globals()[f'{datafrom}_{date}_{keyword}_final_comment']['제목'].isnull(), '제목'] = ''\n",
    "        globals()[f'{datafrom}_{date}_{keyword}_final_comment'].loc[globals()[f'{datafrom}_{date}_{keyword}_final_comment']['댓글'].isnull(), '댓글'] = ''\n",
    "\n",
    "        # 언급량 계산\n",
    "        keywords = vocab[i]\n",
    "        info = globals()[f'{datafrom}_{date}_{keyword}_final_info']\n",
    "        comment = globals()[f'{datafrom}_{date}_{keyword}_final_comment']\n",
    "        globals()[f'mentioned_{datafrom}_{date}_{keyword}'] = Analyzer().estimate_mentioned2(datafrom, info, comment, keywords)\n",
    "        globals()[f'mentioned_{datafrom}_{date}'].append([keyword, globals()[f'mentioned_{datafrom}_{date}_{keyword}']])\n",
    "        #print(f' {date} {datafrom} {keyword} 언급량 분석 완료')"
   ]
  },
  {
   "cell_type": "code",
   "execution_count": 7,
   "id": "d06703cd",
   "metadata": {},
   "outputs": [],
   "source": [
    "# 네이버뉴스 언급량 분석\n",
    "datafrom = 'navernews'\n",
    "\n",
    "for date in period:\n",
    "    # 언급량 변수\n",
    "    globals()[f'mentioned_{datafrom}_{date}'] = []\n",
    "\n",
    "    for i in range(len(vocab)):\n",
    "        # 종목 선택\n",
    "        keyword = vocab[i][0]\n",
    "\n",
    "        # 데이터프레임 불러오기\n",
    "        globals()[f'{datafrom}_{date}_{keyword}_final_info'] = pd.read_csv(f'./{date}_data/{date}_{datafrom}/{datafrom}_{date}_{keyword}_final_info.csv', index_col=0)\n",
    "        globals()[f'{datafrom}_{date}_{keyword}_final_comment'] = pd.read_csv(f'./{date}_data/{date}_{datafrom}/{datafrom}_{date}_{keyword}_final_comment.csv', index_col=0)\n",
    "\n",
    "        # 데이터프레임 빈 부분 채우기\n",
    "        globals()[f'{datafrom}_{date}_{keyword}_final_info'].loc[globals()[f'{datafrom}_{date}_{keyword}_final_info']['제목'].isnull(), '제목'] = ''\n",
    "        globals()[f'{datafrom}_{date}_{keyword}_final_comment'].loc[globals()[f'{datafrom}_{date}_{keyword}_final_comment']['제목'].isnull(), '제목'] = ''\n",
    "        globals()[f'{datafrom}_{date}_{keyword}_final_comment'].loc[globals()[f'{datafrom}_{date}_{keyword}_final_comment']['댓글'].isnull(), '댓글'] = ''\n",
    "\n",
    "        # 언급량 계산\n",
    "        keywords = vocab[i]\n",
    "        info = globals()[f'{datafrom}_{date}_{keyword}_final_info']\n",
    "        comment = globals()[f'{datafrom}_{date}_{keyword}_final_comment']\n",
    "        globals()[f'mentioned_{datafrom}_{date}_{keyword}'] = Analyzer().estimate_mentioned1(datafrom, info, comment, keywords)\n",
    "        globals()[f'mentioned_{datafrom}_{date}'].append([keyword, globals()[f'mentioned_{datafrom}_{date}_{keyword}']])\n",
    "        #print(f' {date} {datafrom} {keyword} 언급량 분석 완료')"
   ]
  },
  {
   "cell_type": "code",
   "execution_count": 8,
   "id": "13a41ab4",
   "metadata": {},
   "outputs": [],
   "source": [
    "# 유튜브 언급량 분석\n",
    "datafrom = 'youtube'\n",
    "\n",
    "for date in period:\n",
    "    # 언급량 변수\n",
    "    globals()[f'mentioned_{datafrom}_{date}'] = []\n",
    "\n",
    "    for i in range(len(vocab)):\n",
    "        # 종목 선택\n",
    "        keyword = vocab[i][0]\n",
    "        if keyword == '한국전력공사':\n",
    "            keyword = '한국전력'\n",
    "\n",
    "        # 데이터프레임 불러오기\n",
    "        globals()[f'{datafrom}_{date}_{keyword}_final_info'] = pd.read_csv(f'./{date}_data/{date}_{datafrom}/{datafrom}_{date}_{keyword}_final_info.csv', index_col=0)\n",
    "        globals()[f'{datafrom}_{date}_{keyword}_final_comment'] = pd.read_csv(f'./{date}_data/{date}_{datafrom}/{datafrom}_{date}_{keyword}_final_comment.csv', index_col=0)\n",
    "\n",
    "        # 데이터프레임 빈 부분 채우기\n",
    "        globals()[f'{datafrom}_{date}_{keyword}_final_info'].loc[globals()[f'{datafrom}_{date}_{keyword}_final_info']['제목'].isnull(), '제목'] = ''\n",
    "        globals()[f'{datafrom}_{date}_{keyword}_final_comment'].loc[globals()[f'{datafrom}_{date}_{keyword}_final_comment']['댓글'].isnull(), '댓글'] = ''\n",
    "\n",
    "        # 언급량 계산\n",
    "        keywords = vocab[i]\n",
    "        info = globals()[f'{datafrom}_{date}_{keyword}_final_info']\n",
    "        comment = globals()[f'{datafrom}_{date}_{keyword}_final_comment']\n",
    "        globals()[f'mentioned_{datafrom}_{date}_{keyword}'] = Analyzer().estimate_mentioned1(datafrom, info, comment, keywords)\n",
    "        globals()[f'mentioned_{datafrom}_{date}'].append([keyword, globals()[f'mentioned_{datafrom}_{date}_{keyword}']])\n",
    "        #print(f' {date} {datafrom} {keyword} 언급량 분석 완료')"
   ]
  },
  {
   "cell_type": "code",
   "execution_count": 9,
   "id": "7118e819",
   "metadata": {},
   "outputs": [],
   "source": [
    "# 날짜별 언급량 통합\n",
    "for date in period:\n",
    "    globals()[f'mentioned_{date}'] = globals()[f'mentioned_daumnews_{date}']\n",
    "    for i in range(len(vocab)):\n",
    "        globals()[f'mentioned_{date}'][i][1] = float(globals()[f'mentioned_{date}'][i][1])\n",
    "    \n",
    "    for datafrom in ['dcinside', 'jongto', 'navernews', 'youtube']:\n",
    "        for i in range(len(vocab)):\n",
    "            globals()[f'mentioned_{date}'][i][1] += float(globals()[f'mentioned_{datafrom}_{date}'][i][1])"
   ]
  },
  {
   "cell_type": "code",
   "execution_count": 10,
   "id": "5b114cca",
   "metadata": {},
   "outputs": [
    {
     "data": {
      "text/plain": [
       "[['삼성전자', 424.95000000000005],\n",
       " ['SK하이닉스', 75.25],\n",
       " ['카카오뱅크', 155.4],\n",
       " ['두산중공업', 72.35000000000001],\n",
       " ['HMM', 258.40000000000003],\n",
       " ['SK바이오사이언스', 95.30000000000001],\n",
       " ['한국전력공사', 61.95],\n",
       " ['카카오', 135.25],\n",
       " ['대한항공', 15.95]]"
      ]
     },
     "execution_count": 10,
     "metadata": {},
     "output_type": "execute_result"
    }
   ],
   "source": [
    "mentioned_20210822     # 20210822 5개 데이터에서 각 종목 언급량"
   ]
  },
  {
   "cell_type": "code",
   "execution_count": 11,
   "id": "c950a919",
   "metadata": {},
   "outputs": [
    {
     "data": {
      "text/plain": [
       "[['삼성전자', 389.75],\n",
       " ['SK하이닉스', 125.80000000000001],\n",
       " ['카카오뱅크', 217.25],\n",
       " ['두산중공업', 90.3],\n",
       " ['HMM', 674.35],\n",
       " ['SK바이오사이언스', 160.85000000000002],\n",
       " ['한국전력공사', 60.85],\n",
       " ['카카오', 157.45],\n",
       " ['대한항공', 37.0]]"
      ]
     },
     "execution_count": 11,
     "metadata": {},
     "output_type": "execute_result"
    }
   ],
   "source": [
    "mentioned_20210823     # 20210823 5개 데이터에서 각 종목 언급량"
   ]
  },
  {
   "cell_type": "code",
   "execution_count": 12,
   "id": "2d84f272",
   "metadata": {},
   "outputs": [],
   "source": [
    "# 종목별 언급량 통합\n",
    "for date in period:\n",
    "    for i in range(len(vocab)):\n",
    "        keyword = vocab[i][0]\n",
    "        \n",
    "        if date == period[0]:\n",
    "            globals()[f'mentioned_{keyword}_{period[0]}_to_{period[4]}'] = []\n",
    "        globals()[f'mentioned_{keyword}_{period[0]}_to_{period[4]}'].append(globals()[f'mentioned_{date}'][i][1])"
   ]
  },
  {
   "cell_type": "code",
   "execution_count": 13,
   "id": "cc5ed874",
   "metadata": {},
   "outputs": [
    {
     "data": {
      "text/plain": [
       "[424.95000000000005, 389.75, 907.25, 678.95, 517.3000000000001]"
      ]
     },
     "execution_count": 13,
     "metadata": {},
     "output_type": "execute_result"
    }
   ],
   "source": [
    "mentioned_삼성전자_20210822_to_20210826     # 20210822 부터 20210826 까지 5개 데이터에서 삼성전자 언급량"
   ]
  },
  {
   "cell_type": "code",
   "execution_count": 14,
   "id": "7936e53a",
   "metadata": {},
   "outputs": [
    {
     "data": {
      "text/plain": [
       "[75.25, 125.80000000000001, 148.95000000000002, 85.6, 103.05000000000001]"
      ]
     },
     "execution_count": 14,
     "metadata": {},
     "output_type": "execute_result"
    }
   ],
   "source": [
    "mentioned_SK하이닉스_20210822_to_20210826     # 20210822 부터 20210826 까지 5개 데이터에서 SK하이닉스 언급량"
   ]
  },
  {
   "cell_type": "markdown",
   "id": "93d79e37",
   "metadata": {},
   "source": [
    "### 언급량 시각화"
   ]
  },
  {
   "cell_type": "code",
   "execution_count": 15,
   "id": "8f8f5c5b",
   "metadata": {},
   "outputs": [],
   "source": [
    "def visualize_mentioned_keyword_per_period(mentioned_keyword_period, keyword, period):\n",
    "    font_path = './NanumBarunGothic.ttf'\n",
    "    fontprop = fm.FontProperties(fname=font_path, size=10)\n",
    "    \n",
    "    plt.title(f'{keyword} {period[0]}~{period[4]} 언급량 추이', fontproperties=fontprop, fontsize=15)\n",
    "    plt.plot(period, mentioned_keyword_period, color='#FF9B00')\n",
    "    plt.yticks(color='w')\n",
    "    plt.show()"
   ]
  },
  {
   "cell_type": "code",
   "execution_count": 16,
   "id": "798414a7",
   "metadata": {},
   "outputs": [
    {
     "data": {
      "image/png": "[encoded data removed]",
      "text/plain": [
       "<Figure size 432x288 with 1 Axes>"
      ]
     },
     "metadata": {},
     "output_type": "display_data"
    }
   ],
   "source": [
    "visualize_mentioned_keyword_per_period(mentioned_삼성전자_20210822_to_20210826, '삼성전자', period)"
   ]
  },
  {
   "cell_type": "code",
   "execution_count": 17,
   "id": "00efbcc4",
   "metadata": {},
   "outputs": [
    {
     "data": {
      "image/png": "[encoded data removed]",
      "text/plain": [
       "<Figure size 432x288 with 1 Axes>"
      ]
     },
     "metadata": {},
     "output_type": "display_data"
    }
   ],
   "source": [
    "visualize_mentioned_keyword_per_period(mentioned_SK하이닉스_20210822_to_20210826, 'SK하이닉스', period)"
   ]
  },
  {
   "cell_type": "markdown",
   "id": "14908276",
   "metadata": {},
   "source": [
    "### 오늘의 해시태그, 오해 선정"
   ]
  },
  {
   "cell_type": "code",
   "execution_count": 18,
   "id": "1c819032",
   "metadata": {},
   "outputs": [],
   "source": [
    "for i in range(len(vocab)):\n",
    "    # 종목 선택\n",
    "    keyword = vocab[i][0]\n",
    "    \n",
    "    # 데이터 칼럼 추출\n",
    "    globals()[f'datacolumns_{targetdate}_{keyword}'] = Analyzer().select_datacolumns(targetdate, keyword)\n",
    "    \n",
    "    # 오늘의 해시태그, 오해 선정\n",
    "    globals()[f'OHAE_{targetdate}_{keyword}'] = Analyzer().select_OHAE(globals()[f'datacolumns_{targetdate}_{keyword}'])"
   ]
  },
  {
   "cell_type": "code",
   "execution_count": 19,
   "id": "b1e43ec8",
   "metadata": {},
   "outputs": [
    {
     "data": {
      "text/plain": [
       "[[89, '반도체'], [57, '이재용'], [52, '배당'], [51, '화이팅'], [48, '기업']]"
      ]
     },
     "execution_count": 19,
     "metadata": {},
     "output_type": "execute_result"
    }
   ],
   "source": [
    "OHAE_20210826_삼성전자"
   ]
  },
  {
   "cell_type": "code",
   "execution_count": 20,
   "id": "ab25c3f8",
   "metadata": {},
   "outputs": [
    {
     "data": {
      "text/plain": [
       "['반도체', '이재용', '배당']"
      ]
     },
     "execution_count": 20,
     "metadata": {},
     "output_type": "execute_result"
    }
   ],
   "source": [
    "OHAE_20210826_삼성전자 = [OHAE_20210826_삼성전자[0][1], OHAE_20210826_삼성전자[1][1], OHAE_20210826_삼성전자[2][1]]\n",
    "OHAE_20210826_삼성전자"
   ]
  },
  {
   "cell_type": "code",
   "execution_count": 21,
   "id": "1422ca5c",
   "metadata": {},
   "outputs": [
    {
     "data": {
      "text/plain": [
       "[[29, '이사'], [23, '네이버'], [18, '반도체'], [16, '전망'], [13, '합병']]"
      ]
     },
     "execution_count": 21,
     "metadata": {},
     "output_type": "execute_result"
    }
   ],
   "source": [
    "OHAE_20210826_SK하이닉스"
   ]
  },
  {
   "cell_type": "code",
   "execution_count": 22,
   "id": "cfeda218",
   "metadata": {},
   "outputs": [
    {
     "data": {
      "text/plain": [
       "['이사', '네이버', '반도체']"
      ]
     },
     "execution_count": 22,
     "metadata": {},
     "output_type": "execute_result"
    }
   ],
   "source": [
    "OHAE_20210826_SK하이닉스 = [OHAE_20210826_SK하이닉스[0][1], OHAE_20210826_SK하이닉스[1][1], OHAE_20210826_SK하이닉스[2][1]]\n",
    "OHAE_20210826_SK하이닉스"
   ]
  },
  {
   "cell_type": "code",
   "execution_count": 23,
   "id": "899340cc",
   "metadata": {},
   "outputs": [
    {
     "data": {
      "text/plain": [
       "[[42, '대출'], [32, '금융'], [29, '은행'], [27, '전망'], [16, '기업']]"
      ]
     },
     "execution_count": 23,
     "metadata": {},
     "output_type": "execute_result"
    }
   ],
   "source": [
    "OHAE_20210826_카카오뱅크"
   ]
  },
  {
   "cell_type": "code",
   "execution_count": 24,
   "id": "66b42036",
   "metadata": {},
   "outputs": [
    {
     "data": {
      "text/plain": [
       "['대출', '금융', '은행']"
      ]
     },
     "execution_count": 24,
     "metadata": {},
     "output_type": "execute_result"
    }
   ],
   "source": [
    "OHAE_20210826_카카오뱅크 = [OHAE_20210826_카카오뱅크[0][1], OHAE_20210826_카카오뱅크[1][1], OHAE_20210826_카카오뱅크[2][1]]\n",
    "OHAE_20210826_카카오뱅크"
   ]
  },
  {
   "cell_type": "markdown",
   "id": "7e7288c6",
   "metadata": {},
   "source": [
    "### 오늘의 해시태그, 오해 연관어 추출 및 감성분석"
   ]
  },
  {
   "cell_type": "code",
   "execution_count": 25,
   "id": "915fae06",
   "metadata": {},
   "outputs": [],
   "source": [
    "# 오해 연관어를 추출할 네이버뉴스, 다음뉴스, 유튜브 제목/댓글 합산\n",
    "for datafrom in ['navernews', 'daumnews', 'youtube']:\n",
    "    for i in range(len(vocab)):\n",
    "        cnt = 1\n",
    "        keyword = vocab[i][0]\n",
    "        if datafrom == 'youtube' and keyword == '한국전력공사':\n",
    "            keyword = '한국전력'\n",
    "            \n",
    "        # 데이터프레임 칼럼 변경\n",
    "        info = globals()[f'{datafrom}_{targetdate}_{keyword}_final_info']\n",
    "        comment = globals()[f'{datafrom}_{targetdate}_{keyword}_final_comment']\n",
    "        integrate = pd.DataFrame(index=range(len(info)+len(comment)))\n",
    "        integrate['id'] = np.arange(len(integrate))\n",
    "        integrate['document'] = list(info['제목']) + list(comment['댓글'])\n",
    "        integrate['label'] = 0\n",
    "\n",
    "        # 데이터프레임 통합\n",
    "        if cnt == 1:\n",
    "            globals()[f'전체2_{targetdate}_{keyword}'] = integrate\n",
    "        else:\n",
    "            globals()[f'전체2_{targetdate}_{keyword}'] = pd.concat([globals()[f'전체2_{targetdate}_{keyword}'], integrate], ignore_index=True)\n",
    "        cnt += 1\n",
    "        \n",
    "# 오해 연관어를 추출할 디시인사이드, 종토방 제목/본문/댓글 합산\n",
    "for datafrom in ['dcinside', 'jongto']:\n",
    "    for i in range(len(vocab)):\n",
    "        keyword = vocab[i][0]\n",
    "       \n",
    "        # 데이터프레임 칼럼 변경\n",
    "        info = globals()[f'{datafrom}_{targetdate}_{keyword}_final_info']\n",
    "        comment = globals()[f'{datafrom}_{targetdate}_{keyword}_final_comment']\n",
    "        integrate = pd.DataFrame(index=range(len(info)*2+len(comment)))\n",
    "        integrate['id'] = np.arange(len(integrate))\n",
    "        integrate['document'] = list(info['제목']) + list(info['본문']) + list(comment['댓글'])\n",
    "        integrate['label'] = 0\n",
    "        \n",
    "        # 데이터프레임 통합\n",
    "        globals()[f'전체2_{targetdate}_{keyword}'] = pd.concat([globals()[f'전체2_{targetdate}_{keyword}'], integrate], ignore_index=True)\n",
    "        \n",
    "# 오해 연관어를 추출할 전체 데이터프레임\n",
    "for i in range(len(vocab)):\n",
    "    keyword = vocab[i][0]\n",
    "    \n",
    "    # 결측치 포함 행 제거\n",
    "    globals()[f'전체2_{targetdate}_{keyword}'].dropna(axis=0, inplace=True)\n",
    "    globals()[f'전체2_{targetdate}_{keyword}'].set_index(np.arange(len(globals()[f'전체2_{targetdate}_{keyword}'])), inplace=True)\n",
    "    globals()[f'전체2_{targetdate}_{keyword}']['id'] = np.arange(len(globals()[f'전체2_{targetdate}_{keyword}']))\n",
    "    \n",
    "    # 파일 저장\n",
    "    #globals()[f'전체2_{date}_{keyword}'].to_csv(f'./전체2_{date}_{keyword}_labelling.csv', index=None, encoding='utf-8-sig')"
   ]
  },
  {
   "cell_type": "code",
   "execution_count": 26,
   "id": "dd451c85",
   "metadata": {},
   "outputs": [
    {
     "data": {
      "text/html": [
       "<div>\n",
       "<style scoped>\n",
       "    .dataframe tbody tr th:only-of-type {\n",
       "        vertical-align: middle;\n",
       "    }\n",
       "\n",
       "    .dataframe tbody tr th {\n",
       "        vertical-align: top;\n",
       "    }\n",
       "\n",
       "    .dataframe thead th {\n",
       "        text-align: right;\n",
       "    }\n",
       "</style>\n",
       "<table border=\"1\" class=\"dataframe\">\n",
       "  <thead>\n",
       "    <tr style=\"text-align: right;\">\n",
       "      <th></th>\n",
       "      <th>id</th>\n",
       "      <th>document</th>\n",
       "      <th>label</th>\n",
       "    </tr>\n",
       "  </thead>\n",
       "  <tbody>\n",
       "    <tr>\n",
       "      <th>0</th>\n",
       "      <td>0</td>\n",
       "      <td>삼성전자 2차 폭락 언제든 올 수 있다 이렇게 대비하세요</td>\n",
       "      <td>0</td>\n",
       "    </tr>\n",
       "    <tr>\n",
       "      <th>1</th>\n",
       "      <td>1</td>\n",
       "      <td>삼성전자 폴더블폰 흥행 대박 관련 수혜주는 삼성전자 주가하락 이유 주식누나분석</td>\n",
       "      <td>0</td>\n",
       "    </tr>\n",
       "    <tr>\n",
       "      <th>2</th>\n",
       "      <td>2</td>\n",
       "      <td>삼성전자 주식 언제 사야할까요 주식 초보자라면 반드시 알아야할 것</td>\n",
       "      <td>0</td>\n",
       "    </tr>\n",
       "    <tr>\n",
       "      <th>3</th>\n",
       "      <td>3</td>\n",
       "      <td>240조 투자 계획 이재용 부회장 행보로 이 종목 반드시 오른다 8월 황금 반도체 ...</td>\n",
       "      <td>0</td>\n",
       "    </tr>\n",
       "    <tr>\n",
       "      <th>4</th>\n",
       "      <td>4</td>\n",
       "      <td>특종 240조 투자 계획 이 종목으로 인생 역전 이재용 수혜 제대로 받을 8월 폭등...</td>\n",
       "      <td>0</td>\n",
       "    </tr>\n",
       "    <tr>\n",
       "      <th>...</th>\n",
       "      <td>...</td>\n",
       "      <td>...</td>\n",
       "      <td>...</td>\n",
       "    </tr>\n",
       "    <tr>\n",
       "      <th>1828</th>\n",
       "      <td>1828</td>\n",
       "      <td>말같은 소리를</td>\n",
       "      <td>0</td>\n",
       "    </tr>\n",
       "    <tr>\n",
       "      <th>1829</th>\n",
       "      <td>1829</td>\n",
       "      <td>쓰레기들</td>\n",
       "      <td>0</td>\n",
       "    </tr>\n",
       "    <tr>\n",
       "      <th>1830</th>\n",
       "      <td>1830</td>\n",
       "      <td></td>\n",
       "      <td>0</td>\n",
       "    </tr>\n",
       "    <tr>\n",
       "      <th>1831</th>\n",
       "      <td>1831</td>\n",
       "      <td>외인평단이 71500원이넘는대 무슨 절대못빼요</td>\n",
       "      <td>0</td>\n",
       "    </tr>\n",
       "    <tr>\n",
       "      <th>1832</th>\n",
       "      <td>1832</td>\n",
       "      <td>좀생이 800원 가지고 에휴</td>\n",
       "      <td>0</td>\n",
       "    </tr>\n",
       "  </tbody>\n",
       "</table>\n",
       "<p>1833 rows × 3 columns</p>\n",
       "</div>"
      ],
      "text/plain": [
       "        id                                           document  label\n",
       "0        0                    삼성전자 2차 폭락 언제든 올 수 있다 이렇게 대비하세요      0\n",
       "1        1        삼성전자 폴더블폰 흥행 대박 관련 수혜주는 삼성전자 주가하락 이유 주식누나분석      0\n",
       "2        2               삼성전자 주식 언제 사야할까요 주식 초보자라면 반드시 알아야할 것      0\n",
       "3        3  240조 투자 계획 이재용 부회장 행보로 이 종목 반드시 오른다 8월 황금 반도체 ...      0\n",
       "4        4  특종 240조 투자 계획 이 종목으로 인생 역전 이재용 수혜 제대로 받을 8월 폭등...      0\n",
       "...    ...                                                ...    ...\n",
       "1828  1828                                            말같은 소리를      0\n",
       "1829  1829                                               쓰레기들      0\n",
       "1830  1830                                                         0\n",
       "1831  1831                          외인평단이 71500원이넘는대 무슨 절대못빼요      0\n",
       "1832  1832                                    좀생이 800원 가지고 에휴      0\n",
       "\n",
       "[1833 rows x 3 columns]"
      ]
     },
     "execution_count": 26,
     "metadata": {},
     "output_type": "execute_result"
    }
   ],
   "source": [
    "전체2_20210826_삼성전자     # 삼성전자 오해 연관어를 뽑을 20210816 5개 데이터 통합 데이터프레임"
   ]
  },
  {
   "cell_type": "code",
   "execution_count": 27,
   "id": "45b8fe8e",
   "metadata": {},
   "outputs": [
    {
     "data": {
      "text/plain": [
       "['반도체', '이재용', '배당']"
      ]
     },
     "execution_count": 27,
     "metadata": {},
     "output_type": "execute_result"
    }
   ],
   "source": [
    "OHAE_20210826_삼성전자"
   ]
  },
  {
   "cell_type": "code",
   "execution_count": 28,
   "id": "c8b82b40",
   "metadata": {},
   "outputs": [
    {
     "name": "stdout",
     "output_type": "stream",
     "text": [
      "--------------------------------------------------------------------------------------------------------------\n",
      "반도체 이(가) 포함된 텍스트에 벡터라이징 적용\n",
      "반도체 이(가) 포함된 48 개의 텍스트가 모여짐\n",
      "--------------------------------------------------------------------------------------------------------------\n",
      "벡터라이징 결과(코사인 유사도 값 확인) :\n",
      "[('호재', 0.4483661651611328), ('스마트폰', 0.37818780541419983), ('랠리', 0.3695841133594513), ('주가', 0.3352426588535309), ('폭등', 0.33300772309303284), ('급등', 0.3184204399585724), ('발표', 0.3094865679740906), ('전망', 0.3066434860229492), ('이재용', 0.3036530017852783), ('미국', 0.2871244251728058), ('업계', 0.28091296553611755), ('성장', 0.27077025175094604), ('젠', 0.26876166462898254), ('하락', 0.25543731451034546), ('투자', 0.25348496437072754), ('실적', 0.24733957648277283), ('상승', 0.2411302924156189), ('최근', 0.2396106868982315), ('세계', 0.23921069502830505), ('점유', 0.23700480163097382)]\n",
      "\n",
      "최종 연관어 리스트:  ['호재', '스마트폰', '랠리', '주가', '폭등', '급등', '발표', '전망', '이재용', '미국', '업계', '성장', '젠', '하락', '투자', '실적', '상승', '최근', '세계', '점유']\n",
      "--------------------------------------------------------------------------------------------------------------\n",
      "연관어 4개:  ['호재', '스마트폰', '랠리', '주가']\n",
      "--------------------------------------------------------------------------------------------------------------\n",
      "호재 이(가) 포함된 12 개의 텍스트가 모여짐\n",
      "호재 의 긍정도:  0.833\n",
      "호재 의 부정도:  0.167\n",
      "--------------------------------------------------------------------------------------------------------------\n",
      "스마트폰 이(가) 포함된 11 개의 텍스트가 모여짐\n",
      "스마트폰 의 긍정도:  0.818\n",
      "스마트폰 의 부정도:  0.182\n",
      "--------------------------------------------------------------------------------------------------------------\n",
      "랠리 이(가) 포함된 4 개의 텍스트가 모여짐\n",
      "랠리 의 긍정도:  1.0\n",
      "랠리 의 부정도:  0.0\n",
      "--------------------------------------------------------------------------------------------------------------\n",
      "주가 이(가) 포함된 78 개의 텍스트가 모여짐\n",
      "주가 의 긍정도:  0.603\n",
      "주가 의 부정도:  0.397\n",
      "--------------------------------------------------------------------------------------------------------------\n"
     ]
    }
   ],
   "source": [
    "relationword_list = Analyzer().word2vec_OHAE(OHAE_20210826_삼성전자[0], 전체2_20210826_삼성전자)\n",
    "Analyzer().sentiment_analysis(relationword_list, 전체2_20210826_삼성전자)"
   ]
  },
  {
   "cell_type": "code",
   "execution_count": 29,
   "id": "d661cce7",
   "metadata": {},
   "outputs": [
    {
     "name": "stdout",
     "output_type": "stream",
     "text": [
      "--------------------------------------------------------------------------------------------------------------\n",
      "이재용 이(가) 포함된 텍스트에 벡터라이징 적용\n",
      "이재용 이(가) 포함된 34 개의 텍스트가 모여짐\n",
      "--------------------------------------------------------------------------------------------------------------\n",
      "벡터라이징 결과(코사인 유사도 값 확인) :\n",
      "[('시스템', 0.20332562923431396), ('하락', 0.2023744285106659), ('전망', 0.17774972319602966), ('저가', 0.16716749966144562), ('실적', 0.14990536868572235), ('향후', 0.1481262445449829), ('폭등', 0.1262654960155487), ('주가', 0.09658350795507431), ('종목', 0.07115397602319717), ('스마트폰', 0.05259918048977852), ('증가', 0.024127941578626633), ('기회', 0.023797092959284782), ('공개', 0.02372214011847973), ('매수', 0.015612799674272537), ('단타', 0.013458438217639923), ('투자', 0.006858274340629578), ('부회장', 0.0055239819921553135), ('및', -0.00016371779202017933), ('이유', -0.00861575361341238), ('주식', -0.015027900226414204)]\n",
      "\n",
      "최종 연관어 리스트:  ['시스템', '하락', '전망', '실적', '폭등', '주가', '스마트폰', '증가', '기회', '공개', '매수', '단타', '투자', '부회장', '주식']\n",
      "--------------------------------------------------------------------------------------------------------------\n",
      "연관어 4개:  ['시스템', '하락', '전망', '실적']\n",
      "--------------------------------------------------------------------------------------------------------------\n",
      "시스템 이(가) 포함된 11 개의 텍스트가 모여짐\n",
      "시스템 의 긍정도:  0.909\n",
      "시스템 의 부정도:  0.091\n",
      "--------------------------------------------------------------------------------------------------------------\n",
      "하락 이(가) 포함된 37 개의 텍스트가 모여짐\n",
      "하락 의 긍정도:  0.324\n",
      "하락 의 부정도:  0.676\n",
      "--------------------------------------------------------------------------------------------------------------\n",
      "전망 이(가) 포함된 19 개의 텍스트가 모여짐\n",
      "전망 의 긍정도:  0.842\n",
      "전망 의 부정도:  0.158\n",
      "--------------------------------------------------------------------------------------------------------------\n",
      "실적 이(가) 포함된 15 개의 텍스트가 모여짐\n",
      "실적 의 긍정도:  0.8\n",
      "실적 의 부정도:  0.2\n",
      "--------------------------------------------------------------------------------------------------------------\n"
     ]
    }
   ],
   "source": [
    "relationword_list = Analyzer().word2vec_OHAE(OHAE_20210826_삼성전자[1], 전체2_20210826_삼성전자)\n",
    "Analyzer().sentiment_analysis(relationword_list, 전체2_20210826_삼성전자)"
   ]
  },
  {
   "cell_type": "code",
   "execution_count": 30,
   "id": "09c74c08",
   "metadata": {},
   "outputs": [
    {
     "name": "stdout",
     "output_type": "stream",
     "text": [
      "--------------------------------------------------------------------------------------------------------------\n",
      "배당 이(가) 포함된 텍스트에 벡터라이징 적용\n",
      "배당 이(가) 포함된 30 개의 텍스트가 모여짐\n",
      "--------------------------------------------------------------------------------------------------------------\n",
      "벡터라이징 결과(코사인 유사도 값 확인) :\n",
      "[('스마트폰', 0.2818364202976227), ('시스템', 0.27878183126449585), ('이유', 0.2508566081523895), ('최근', 0.21830159425735474), ('최고', 0.21387705206871033), ('판매', 0.20607972145080566), ('목표', 0.19814155995845795), ('저렴', 0.17257656157016754), ('낙폭', 0.1687578558921814), ('상승', 0.1669282615184784), ('및', 0.1605823040008545), ('하락', 0.15915562212467194), ('대가', 0.1465504765510559), ('보통주', 0.1441357582807541), ('증가', 0.14410841464996338), ('주주', 0.14217019081115723), ('급등', 0.12817032635211945), ('대박', 0.11827577650547028), ('저가', 0.11178933829069138), ('우선주', 0.10841459035873413)]\n",
      "\n",
      "최종 연관어 리스트:  ['스마트폰', '시스템', '최근', '최고', '판매', '목표', '저렴', '낙폭', '상승', '하락', '대가', '보통주', '증가', '주주', '급등', '대박', '우선주']\n",
      "--------------------------------------------------------------------------------------------------------------\n",
      "연관어 4개:  ['스마트폰', '시스템', '최근', '최고']\n",
      "--------------------------------------------------------------------------------------------------------------\n",
      "스마트폰 이(가) 포함된 11 개의 텍스트가 모여짐\n",
      "스마트폰 의 긍정도:  0.818\n",
      "스마트폰 의 부정도:  0.182\n",
      "--------------------------------------------------------------------------------------------------------------\n",
      "시스템 이(가) 포함된 11 개의 텍스트가 모여짐\n",
      "시스템 의 긍정도:  0.909\n",
      "시스템 의 부정도:  0.091\n",
      "--------------------------------------------------------------------------------------------------------------\n",
      "최근 이(가) 포함된 9 개의 텍스트가 모여짐\n",
      "최근 의 긍정도:  0.778\n",
      "최근 의 부정도:  0.222\n",
      "--------------------------------------------------------------------------------------------------------------\n",
      "최고 이(가) 포함된 25 개의 텍스트가 모여짐\n",
      "최고 의 긍정도:  0.92\n",
      "최고 의 부정도:  0.08\n",
      "--------------------------------------------------------------------------------------------------------------\n"
     ]
    }
   ],
   "source": [
    "relationword_list = Analyzer().word2vec_OHAE(OHAE_20210826_삼성전자[2], 전체2_20210826_삼성전자)\n",
    "Analyzer().sentiment_analysis(relationword_list, 전체2_20210826_삼성전자)"
   ]
  }
 ],
 "metadata": {
  "kernelspec": {
   "display_name": "Python 3",
   "language": "python",
   "name": "python3"
  },
  "language_info": {
   "codemirror_mode": {
    "name": "ipython",
    "version": 3
   },
   "file_extension": ".py",
   "mimetype": "text/x-python",
   "name": "python",
   "nbconvert_exporter": "python",
   "pygments_lexer": "ipython3",
   "version": "3.8.8"
  }
 },
 "nbformat": 4,
 "nbformat_minor": 5
}
